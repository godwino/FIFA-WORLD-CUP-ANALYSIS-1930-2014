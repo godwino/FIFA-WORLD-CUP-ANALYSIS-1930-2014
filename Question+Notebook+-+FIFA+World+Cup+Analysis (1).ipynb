{
 "cells": [
  {
   "cell_type": "markdown",
   "metadata": {
    "id": "lUDEOCM7a84o"
   },
   "source": [
    "# Practice Project - FIFA World Cup Analysis\n",
    "\n",
    "---------------\n",
    "## Context\n",
    "---------------\n",
    "\n",
    "The FIFA World Cup, often simply called the World Cup, is an international association football competition contested by the senior men's national teams of the members of the Fédération Internationale de Football Association (FIFA), the sport's global governing body. The championship is contested every four years since the inaugural tournament in 1930, except in 1942 and 1946 when it was not held because of the Second World War. It is one of the most prestigious and important trophies in the sport of football.\n",
    "\n",
    "-----------------\n",
    "## Objective\n",
    "-----------------\n",
    "\n",
    "A new football club named 'Brussels United FC' has just been inaugurated. As a member of this club, you have been assigned a task to carry analysis of the world cup data.\n",
    "\n",
    "-------------------------\n",
    "## Data Dictionary\n",
    "-------------------------\n",
    "\n",
    "The World Cups dataset has the following information about all the World Cups in history till 2014.\n",
    "\n",
    "**Year**: Year in which the world cup was held\n",
    "    \n",
    "**Country**: Country where the world cup was held\n",
    "    \n",
    "**Winner**: Team that won the world cup\n",
    "    \n",
    "**Runners-Up**: Team that came second\n",
    "    \n",
    "**Third**: Team that came third\n",
    "    \n",
    "**Fourth**: Team that came fourth\n",
    "    \n",
    "**GoalsScored**: Total goals scored in the world cup\n",
    "    \n",
    "**QualifiedTeams**: Number of teams that qualified for the world cup\n",
    "    \n",
    "**MatchesPlayed**: Total matches played in the world cup\n",
    "    \n",
    "**Attendance**: Total attendance in the world cup"
   ]
  },
  {
   "cell_type": "markdown",
   "metadata": {
    "id": "lOcqo43Sa84u"
   },
   "source": [
    "## Q 1: Import the necessary libraries and briefly explain the use of each library"
   ]
  },
  {
   "cell_type": "code",
   "execution_count": 11,
   "metadata": {
    "id": "aHF8GqMHa84v"
   },
   "outputs": [],
   "source": [
    "# remove _____ & write the appropriate library n\n",
    "# Used to ignore the warning given as output of the code\n",
    "import warnings                                 \n",
    "warnings.filterwarnings('ignore')\n",
    "\n",
    "# Basic libraries of python for numeric and dataframe computations\n",
    "import numpy as np                              \n",
    "import pandas as pd\n",
    "\n",
    "# Basic library for data visualization\n",
    "import matplotlib.pyplot as plt     \n",
    "\n",
    "# Slightly advanced library for data visualization            \n",
    "import seaborn as sns                           \n",
    "\n",
    "# A dictionary output that does not raise a key error\n",
    "from collections import defaultdict             "
   ]
  },
  {
   "cell_type": "markdown",
   "metadata": {
    "id": "gIHphZnSa84x"
   },
   "source": [
    "#### Write your Answer here: "
   ]
  },
  {
   "cell_type": "raw",
   "metadata": {
    "id": "QN_iGoBfa84x"
   },
   "source": [
    "Ans 1:pandas and matplotlib.pyplot"
   ]
  },
  {
   "cell_type": "markdown",
   "metadata": {
    "id": "FBcORmAMa84y"
   },
   "source": [
    "## Q 2: Which library can be used to read the WorldCups dataset? Read the dataset."
   ]
  },
  {
   "cell_type": "code",
   "execution_count": 12,
   "metadata": {
    "id": "N7eubtOJa84y"
   },
   "outputs": [],
   "source": [
    " # remove _____ & write the appropriate function name\n",
    "\n",
    "fifa=pd.read_csv(\"WorldCups (1).csv\")"
   ]
  },
  {
   "cell_type": "markdown",
   "metadata": {
    "id": "uuRjQGLqa84z"
   },
   "source": [
    "#### Write your Answer here: \n"
   ]
  },
  {
   "cell_type": "raw",
   "metadata": {
    "id": "cZe2siSia840"
   },
   "source": [
    "Ans 2:read_csv"
   ]
  },
  {
   "cell_type": "markdown",
   "metadata": {
    "id": "hkg0ON_ha840"
   },
   "source": [
    "## Q3. Show the last 10 records of the dataset. How many columns are there?"
   ]
  },
  {
   "cell_type": "code",
   "execution_count": 8,
   "metadata": {
    "id": "6chWiU6ca841"
   },
   "outputs": [
    {
     "data": {
      "text/html": [
       "<div>\n",
       "<style scoped>\n",
       "    .dataframe tbody tr th:only-of-type {\n",
       "        vertical-align: middle;\n",
       "    }\n",
       "\n",
       "    .dataframe tbody tr th {\n",
       "        vertical-align: top;\n",
       "    }\n",
       "\n",
       "    .dataframe thead th {\n",
       "        text-align: right;\n",
       "    }\n",
       "</style>\n",
       "<table border=\"1\" class=\"dataframe\">\n",
       "  <thead>\n",
       "    <tr style=\"text-align: right;\">\n",
       "      <th></th>\n",
       "      <th>Year</th>\n",
       "      <th>Country</th>\n",
       "      <th>Winner</th>\n",
       "      <th>Runners-Up</th>\n",
       "      <th>Third</th>\n",
       "      <th>Fourth</th>\n",
       "      <th>GoalsScored</th>\n",
       "      <th>QualifiedTeams</th>\n",
       "      <th>MatchesPlayed</th>\n",
       "      <th>Attendance</th>\n",
       "    </tr>\n",
       "  </thead>\n",
       "  <tbody>\n",
       "    <tr>\n",
       "      <th>10</th>\n",
       "      <td>1978</td>\n",
       "      <td>Argentina</td>\n",
       "      <td>Argentina</td>\n",
       "      <td>Netherlands</td>\n",
       "      <td>Brazil</td>\n",
       "      <td>Italy</td>\n",
       "      <td>102</td>\n",
       "      <td>16</td>\n",
       "      <td>38</td>\n",
       "      <td>1.545.791</td>\n",
       "    </tr>\n",
       "    <tr>\n",
       "      <th>11</th>\n",
       "      <td>1982</td>\n",
       "      <td>Spain</td>\n",
       "      <td>Italy</td>\n",
       "      <td>Germany FR</td>\n",
       "      <td>Poland</td>\n",
       "      <td>France</td>\n",
       "      <td>146</td>\n",
       "      <td>24</td>\n",
       "      <td>52</td>\n",
       "      <td>2.109.723</td>\n",
       "    </tr>\n",
       "    <tr>\n",
       "      <th>12</th>\n",
       "      <td>1986</td>\n",
       "      <td>Mexico</td>\n",
       "      <td>Argentina</td>\n",
       "      <td>Germany FR</td>\n",
       "      <td>France</td>\n",
       "      <td>Belgium</td>\n",
       "      <td>132</td>\n",
       "      <td>24</td>\n",
       "      <td>52</td>\n",
       "      <td>2.394.031</td>\n",
       "    </tr>\n",
       "    <tr>\n",
       "      <th>13</th>\n",
       "      <td>1990</td>\n",
       "      <td>Italy</td>\n",
       "      <td>Germany FR</td>\n",
       "      <td>Argentina</td>\n",
       "      <td>Italy</td>\n",
       "      <td>England</td>\n",
       "      <td>115</td>\n",
       "      <td>24</td>\n",
       "      <td>52</td>\n",
       "      <td>2.516.215</td>\n",
       "    </tr>\n",
       "    <tr>\n",
       "      <th>14</th>\n",
       "      <td>1994</td>\n",
       "      <td>USA</td>\n",
       "      <td>Brazil</td>\n",
       "      <td>Italy</td>\n",
       "      <td>Sweden</td>\n",
       "      <td>Bulgaria</td>\n",
       "      <td>141</td>\n",
       "      <td>24</td>\n",
       "      <td>52</td>\n",
       "      <td>3.587.538</td>\n",
       "    </tr>\n",
       "    <tr>\n",
       "      <th>15</th>\n",
       "      <td>1998</td>\n",
       "      <td>France</td>\n",
       "      <td>France</td>\n",
       "      <td>Brazil</td>\n",
       "      <td>Croatia</td>\n",
       "      <td>Netherlands</td>\n",
       "      <td>171</td>\n",
       "      <td>32</td>\n",
       "      <td>64</td>\n",
       "      <td>2.785.100</td>\n",
       "    </tr>\n",
       "    <tr>\n",
       "      <th>16</th>\n",
       "      <td>2002</td>\n",
       "      <td>Korea/Japan</td>\n",
       "      <td>Brazil</td>\n",
       "      <td>Germany</td>\n",
       "      <td>Turkey</td>\n",
       "      <td>Korea Republic</td>\n",
       "      <td>161</td>\n",
       "      <td>32</td>\n",
       "      <td>64</td>\n",
       "      <td>2.705.197</td>\n",
       "    </tr>\n",
       "    <tr>\n",
       "      <th>17</th>\n",
       "      <td>2006</td>\n",
       "      <td>Germany</td>\n",
       "      <td>Italy</td>\n",
       "      <td>France</td>\n",
       "      <td>Germany</td>\n",
       "      <td>Portugal</td>\n",
       "      <td>147</td>\n",
       "      <td>32</td>\n",
       "      <td>64</td>\n",
       "      <td>3.359.439</td>\n",
       "    </tr>\n",
       "    <tr>\n",
       "      <th>18</th>\n",
       "      <td>2010</td>\n",
       "      <td>South Africa</td>\n",
       "      <td>Spain</td>\n",
       "      <td>Netherlands</td>\n",
       "      <td>Germany</td>\n",
       "      <td>Uruguay</td>\n",
       "      <td>145</td>\n",
       "      <td>32</td>\n",
       "      <td>64</td>\n",
       "      <td>3.178.856</td>\n",
       "    </tr>\n",
       "    <tr>\n",
       "      <th>19</th>\n",
       "      <td>2014</td>\n",
       "      <td>Brazil</td>\n",
       "      <td>Germany</td>\n",
       "      <td>Argentina</td>\n",
       "      <td>Netherlands</td>\n",
       "      <td>Brazil</td>\n",
       "      <td>171</td>\n",
       "      <td>32</td>\n",
       "      <td>64</td>\n",
       "      <td>3.386.810</td>\n",
       "    </tr>\n",
       "  </tbody>\n",
       "</table>\n",
       "</div>"
      ],
      "text/plain": [
       "    Year       Country      Winner   Runners-Up        Third          Fourth  \\\n",
       "10  1978     Argentina   Argentina  Netherlands       Brazil           Italy   \n",
       "11  1982         Spain       Italy   Germany FR       Poland          France   \n",
       "12  1986        Mexico   Argentina   Germany FR       France         Belgium   \n",
       "13  1990         Italy  Germany FR    Argentina        Italy         England   \n",
       "14  1994           USA      Brazil        Italy       Sweden        Bulgaria   \n",
       "15  1998        France      France       Brazil      Croatia     Netherlands   \n",
       "16  2002   Korea/Japan      Brazil      Germany       Turkey  Korea Republic   \n",
       "17  2006       Germany       Italy       France      Germany        Portugal   \n",
       "18  2010  South Africa       Spain  Netherlands      Germany         Uruguay   \n",
       "19  2014        Brazil     Germany    Argentina  Netherlands          Brazil   \n",
       "\n",
       "    GoalsScored  QualifiedTeams  MatchesPlayed Attendance  \n",
       "10          102              16             38  1.545.791  \n",
       "11          146              24             52  2.109.723  \n",
       "12          132              24             52  2.394.031  \n",
       "13          115              24             52  2.516.215  \n",
       "14          141              24             52  3.587.538  \n",
       "15          171              32             64  2.785.100  \n",
       "16          161              32             64  2.705.197  \n",
       "17          147              32             64  3.359.439  \n",
       "18          145              32             64  3.178.856  \n",
       "19          171              32             64  3.386.810  "
      ]
     },
     "execution_count": 8,
     "metadata": {},
     "output_type": "execute_result"
    }
   ],
   "source": [
    "# remove ______ and write the appropriate number in the function\n",
    "\n",
    "fifa.tail(10)"
   ]
  },
  {
   "cell_type": "markdown",
   "metadata": {
    "id": "sbuECXLea841"
   },
   "source": [
    "#### Write your Answer here: \n"
   ]
  },
  {
   "cell_type": "raw",
   "metadata": {
    "id": "bAH0mo7-a841"
   },
   "source": [
    "Ans 3:  10"
   ]
  },
  {
   "cell_type": "markdown",
   "metadata": {
    "id": "_XuES0E4a842"
   },
   "source": [
    "## Q4. Show the first 10 records of the dataset."
   ]
  },
  {
   "cell_type": "code",
   "execution_count": 7,
   "metadata": {
    "id": "HIKjSxxqa842"
   },
   "outputs": [
    {
     "data": {
      "text/html": [
       "<div>\n",
       "<style scoped>\n",
       "    .dataframe tbody tr th:only-of-type {\n",
       "        vertical-align: middle;\n",
       "    }\n",
       "\n",
       "    .dataframe tbody tr th {\n",
       "        vertical-align: top;\n",
       "    }\n",
       "\n",
       "    .dataframe thead th {\n",
       "        text-align: right;\n",
       "    }\n",
       "</style>\n",
       "<table border=\"1\" class=\"dataframe\">\n",
       "  <thead>\n",
       "    <tr style=\"text-align: right;\">\n",
       "      <th></th>\n",
       "      <th>Year</th>\n",
       "      <th>Country</th>\n",
       "      <th>Winner</th>\n",
       "      <th>Runners-Up</th>\n",
       "      <th>Third</th>\n",
       "      <th>Fourth</th>\n",
       "      <th>GoalsScored</th>\n",
       "      <th>QualifiedTeams</th>\n",
       "      <th>MatchesPlayed</th>\n",
       "      <th>Attendance</th>\n",
       "    </tr>\n",
       "  </thead>\n",
       "  <tbody>\n",
       "    <tr>\n",
       "      <th>0</th>\n",
       "      <td>1930</td>\n",
       "      <td>Uruguay</td>\n",
       "      <td>Uruguay</td>\n",
       "      <td>Argentina</td>\n",
       "      <td>USA</td>\n",
       "      <td>Yugoslavia</td>\n",
       "      <td>70</td>\n",
       "      <td>13</td>\n",
       "      <td>18</td>\n",
       "      <td>590.549</td>\n",
       "    </tr>\n",
       "    <tr>\n",
       "      <th>1</th>\n",
       "      <td>1934</td>\n",
       "      <td>Italy</td>\n",
       "      <td>Italy</td>\n",
       "      <td>Czechoslovakia</td>\n",
       "      <td>Germany</td>\n",
       "      <td>Austria</td>\n",
       "      <td>70</td>\n",
       "      <td>16</td>\n",
       "      <td>17</td>\n",
       "      <td>363.000</td>\n",
       "    </tr>\n",
       "    <tr>\n",
       "      <th>2</th>\n",
       "      <td>1938</td>\n",
       "      <td>France</td>\n",
       "      <td>Italy</td>\n",
       "      <td>Hungary</td>\n",
       "      <td>Brazil</td>\n",
       "      <td>Sweden</td>\n",
       "      <td>84</td>\n",
       "      <td>15</td>\n",
       "      <td>18</td>\n",
       "      <td>375.700</td>\n",
       "    </tr>\n",
       "    <tr>\n",
       "      <th>3</th>\n",
       "      <td>1950</td>\n",
       "      <td>Brazil</td>\n",
       "      <td>Uruguay</td>\n",
       "      <td>Brazil</td>\n",
       "      <td>Sweden</td>\n",
       "      <td>Spain</td>\n",
       "      <td>88</td>\n",
       "      <td>13</td>\n",
       "      <td>22</td>\n",
       "      <td>1.045.246</td>\n",
       "    </tr>\n",
       "    <tr>\n",
       "      <th>4</th>\n",
       "      <td>1954</td>\n",
       "      <td>Switzerland</td>\n",
       "      <td>Germany FR</td>\n",
       "      <td>Hungary</td>\n",
       "      <td>Austria</td>\n",
       "      <td>Uruguay</td>\n",
       "      <td>140</td>\n",
       "      <td>16</td>\n",
       "      <td>26</td>\n",
       "      <td>768.607</td>\n",
       "    </tr>\n",
       "    <tr>\n",
       "      <th>5</th>\n",
       "      <td>1958</td>\n",
       "      <td>Sweden</td>\n",
       "      <td>Brazil</td>\n",
       "      <td>Sweden</td>\n",
       "      <td>France</td>\n",
       "      <td>Germany FR</td>\n",
       "      <td>126</td>\n",
       "      <td>16</td>\n",
       "      <td>35</td>\n",
       "      <td>819.810</td>\n",
       "    </tr>\n",
       "    <tr>\n",
       "      <th>6</th>\n",
       "      <td>1962</td>\n",
       "      <td>Chile</td>\n",
       "      <td>Brazil</td>\n",
       "      <td>Czechoslovakia</td>\n",
       "      <td>Chile</td>\n",
       "      <td>Yugoslavia</td>\n",
       "      <td>89</td>\n",
       "      <td>16</td>\n",
       "      <td>32</td>\n",
       "      <td>893.172</td>\n",
       "    </tr>\n",
       "    <tr>\n",
       "      <th>7</th>\n",
       "      <td>1966</td>\n",
       "      <td>England</td>\n",
       "      <td>England</td>\n",
       "      <td>Germany FR</td>\n",
       "      <td>Portugal</td>\n",
       "      <td>Soviet Union</td>\n",
       "      <td>89</td>\n",
       "      <td>16</td>\n",
       "      <td>32</td>\n",
       "      <td>1.563.135</td>\n",
       "    </tr>\n",
       "    <tr>\n",
       "      <th>8</th>\n",
       "      <td>1970</td>\n",
       "      <td>Mexico</td>\n",
       "      <td>Brazil</td>\n",
       "      <td>Italy</td>\n",
       "      <td>Germany FR</td>\n",
       "      <td>Uruguay</td>\n",
       "      <td>95</td>\n",
       "      <td>16</td>\n",
       "      <td>32</td>\n",
       "      <td>1.603.975</td>\n",
       "    </tr>\n",
       "    <tr>\n",
       "      <th>9</th>\n",
       "      <td>1974</td>\n",
       "      <td>Germany</td>\n",
       "      <td>Germany FR</td>\n",
       "      <td>Netherlands</td>\n",
       "      <td>Poland</td>\n",
       "      <td>Brazil</td>\n",
       "      <td>97</td>\n",
       "      <td>16</td>\n",
       "      <td>38</td>\n",
       "      <td>1.865.753</td>\n",
       "    </tr>\n",
       "  </tbody>\n",
       "</table>\n",
       "</div>"
      ],
      "text/plain": [
       "   Year      Country      Winner      Runners-Up       Third        Fourth  \\\n",
       "0  1930      Uruguay     Uruguay       Argentina         USA    Yugoslavia   \n",
       "1  1934        Italy       Italy  Czechoslovakia     Germany       Austria   \n",
       "2  1938       France       Italy         Hungary      Brazil        Sweden   \n",
       "3  1950       Brazil     Uruguay          Brazil      Sweden         Spain   \n",
       "4  1954  Switzerland  Germany FR         Hungary     Austria       Uruguay   \n",
       "5  1958       Sweden      Brazil          Sweden      France    Germany FR   \n",
       "6  1962        Chile      Brazil  Czechoslovakia       Chile    Yugoslavia   \n",
       "7  1966      England     England      Germany FR    Portugal  Soviet Union   \n",
       "8  1970       Mexico      Brazil           Italy  Germany FR       Uruguay   \n",
       "9  1974      Germany  Germany FR     Netherlands      Poland        Brazil   \n",
       "\n",
       "   GoalsScored  QualifiedTeams  MatchesPlayed Attendance  \n",
       "0           70              13             18    590.549  \n",
       "1           70              16             17    363.000  \n",
       "2           84              15             18    375.700  \n",
       "3           88              13             22  1.045.246  \n",
       "4          140              16             26    768.607  \n",
       "5          126              16             35    819.810  \n",
       "6           89              16             32    893.172  \n",
       "7           89              16             32  1.563.135  \n",
       "8           95              16             32  1.603.975  \n",
       "9           97              16             38  1.865.753  "
      ]
     },
     "execution_count": 7,
     "metadata": {},
     "output_type": "execute_result"
    }
   ],
   "source": [
    "# remove _____ & write the appropriate function name and the number of rows to get in the output\n",
    "\n",
    "fifa.head(10)"
   ]
  },
  {
   "cell_type": "markdown",
   "metadata": {
    "id": "fBftma6Xa843"
   },
   "source": [
    "## Q5. What do you understand by the dimension of the dataset? Find the dimension of the `fifa` dataframe."
   ]
  },
  {
   "cell_type": "code",
   "execution_count": 8,
   "metadata": {
    "id": "L3YwD_dwa843"
   },
   "outputs": [
    {
     "name": "stdout",
     "output_type": "stream",
     "text": [
      "<class 'pandas.core.frame.DataFrame'>\n",
      "RangeIndex: 20 entries, 0 to 19\n",
      "Data columns (total 10 columns):\n",
      " #   Column          Non-Null Count  Dtype \n",
      "---  ------          --------------  ----- \n",
      " 0   Year            20 non-null     int64 \n",
      " 1   Country         20 non-null     object\n",
      " 2   Winner          20 non-null     object\n",
      " 3   Runners-Up      20 non-null     object\n",
      " 4   Third           20 non-null     object\n",
      " 5   Fourth          20 non-null     object\n",
      " 6   GoalsScored     20 non-null     int64 \n",
      " 7   QualifiedTeams  20 non-null     int64 \n",
      " 8   MatchesPlayed   20 non-null     int64 \n",
      " 9   Attendance      20 non-null     object\n",
      "dtypes: int64(4), object(6)\n",
      "memory usage: 1.7+ KB\n"
     ]
    }
   ],
   "source": [
    "# remove _____ & write the appropriate function name\n",
    "\n",
    "fifa.info()"
   ]
  },
  {
   "cell_type": "markdown",
   "metadata": {
    "id": "UkTWFJrra843"
   },
   "source": [
    "#### Write your Answer here: \n"
   ]
  },
  {
   "cell_type": "raw",
   "metadata": {
    "id": "mU3gN-2Ba844"
   },
   "source": [
    "Ans 5:10 columns and 20 rows"
   ]
  },
  {
   "cell_type": "markdown",
   "metadata": {
    "id": "PYfzdrdIa844"
   },
   "source": [
    "## Q6. What do you understand by the size of the dataset? Find the size of the `fifa` dataframe."
   ]
  },
  {
   "cell_type": "code",
   "execution_count": 9,
   "metadata": {
    "id": "nl5Dpm_ba844"
   },
   "outputs": [
    {
     "data": {
      "text/plain": [
       "(20, 10)"
      ]
     },
     "execution_count": 9,
     "metadata": {},
     "output_type": "execute_result"
    }
   ],
   "source": [
    "\n",
    "\n",
    "\n",
    "\n",
    "# remove _____ & write the appropriate function name\n",
    "\n",
    "fifa.shape"
   ]
  },
  {
   "cell_type": "markdown",
   "metadata": {
    "id": "MqIbNbRUa844"
   },
   "source": [
    "#### Write your Answer here: \n"
   ]
  },
  {
   "cell_type": "raw",
   "metadata": {
    "id": "q_Uu6KUWa845"
   },
   "source": [
    "Ans 6:(20,10)"
   ]
  },
  {
   "cell_type": "markdown",
   "metadata": {
    "id": "7O00AheAa845"
   },
   "source": [
    "## Q7. What are the data types of all the variables in the data set? \n",
    "**Hint: Use the info() function to get all the information about the dataset.**"
   ]
  },
  {
   "cell_type": "code",
   "execution_count": 10,
   "metadata": {
    "id": "t64NXCyGa846"
   },
   "outputs": [
    {
     "name": "stdout",
     "output_type": "stream",
     "text": [
      "<class 'pandas.core.frame.DataFrame'>\n",
      "RangeIndex: 20 entries, 0 to 19\n",
      "Data columns (total 10 columns):\n",
      " #   Column          Non-Null Count  Dtype \n",
      "---  ------          --------------  ----- \n",
      " 0   Year            20 non-null     int64 \n",
      " 1   Country         20 non-null     object\n",
      " 2   Winner          20 non-null     object\n",
      " 3   Runners-Up      20 non-null     object\n",
      " 4   Third           20 non-null     object\n",
      " 5   Fourth          20 non-null     object\n",
      " 6   GoalsScored     20 non-null     int64 \n",
      " 7   QualifiedTeams  20 non-null     int64 \n",
      " 8   MatchesPlayed   20 non-null     int64 \n",
      " 9   Attendance      20 non-null     object\n",
      "dtypes: int64(4), object(6)\n",
      "memory usage: 1.7+ KB\n"
     ]
    }
   ],
   "source": [
    "# remove _____ & write the appropriate function name\n",
    "\n",
    "fifa.info()"
   ]
  },
  {
   "cell_type": "markdown",
   "metadata": {
    "id": "RJrf8hica846"
   },
   "source": [
    "#### Write your Answer here: \n"
   ]
  },
  {
   "cell_type": "raw",
   "metadata": {
    "id": "Tk_bsCvpa847"
   },
   "source": [
    "Ans 7:"
   ]
  },
  {
   "cell_type": "markdown",
   "metadata": {
    "id": "S2ueDLl7a847"
   },
   "source": [
    "## Q8. What do you mean by missing values? Are there any missing values in the `fifa` dataframe?"
   ]
  },
  {
   "cell_type": "code",
   "execution_count": 11,
   "metadata": {
    "id": "ennOi-2ja847"
   },
   "outputs": [
    {
     "data": {
      "text/plain": [
       "False"
      ]
     },
     "execution_count": 11,
     "metadata": {},
     "output_type": "execute_result"
    }
   ],
   "source": [
    "# remove _____ & write the appropriate function name\n",
    "\n",
    "fifa.isnull().values.any()"
   ]
  },
  {
   "cell_type": "markdown",
   "metadata": {
    "id": "OUtbS2Tra848"
   },
   "source": [
    "#### Write your Answer here: \n"
   ]
  },
  {
   "cell_type": "raw",
   "metadata": {
    "id": "R_Ia6-Mca848"
   },
   "source": [
    "Ans 8:no missing values"
   ]
  },
  {
   "cell_type": "markdown",
   "metadata": {
    "id": "vY-IWVQya848"
   },
   "source": [
    "## Q9. What do summary statistics of data represent? Find the summary statistics for the numerical variables (Dtype is int64) in the `fifa` data?"
   ]
  },
  {
   "cell_type": "code",
   "execution_count": 9,
   "metadata": {
    "id": "y33wBsc-a849"
   },
   "outputs": [
    {
     "data": {
      "text/html": [
       "<div>\n",
       "<style scoped>\n",
       "    .dataframe tbody tr th:only-of-type {\n",
       "        vertical-align: middle;\n",
       "    }\n",
       "\n",
       "    .dataframe tbody tr th {\n",
       "        vertical-align: top;\n",
       "    }\n",
       "\n",
       "    .dataframe thead th {\n",
       "        text-align: right;\n",
       "    }\n",
       "</style>\n",
       "<table border=\"1\" class=\"dataframe\">\n",
       "  <thead>\n",
       "    <tr style=\"text-align: right;\">\n",
       "      <th></th>\n",
       "      <th>count</th>\n",
       "      <th>mean</th>\n",
       "      <th>std</th>\n",
       "      <th>min</th>\n",
       "      <th>25%</th>\n",
       "      <th>50%</th>\n",
       "      <th>75%</th>\n",
       "      <th>max</th>\n",
       "    </tr>\n",
       "  </thead>\n",
       "  <tbody>\n",
       "    <tr>\n",
       "      <th>Year</th>\n",
       "      <td>20.0</td>\n",
       "      <td>1974.80</td>\n",
       "      <td>25.582889</td>\n",
       "      <td>1930.0</td>\n",
       "      <td>1957.0</td>\n",
       "      <td>1976.0</td>\n",
       "      <td>1995.00</td>\n",
       "      <td>2014.0</td>\n",
       "    </tr>\n",
       "    <tr>\n",
       "      <th>GoalsScored</th>\n",
       "      <td>20.0</td>\n",
       "      <td>118.95</td>\n",
       "      <td>32.972836</td>\n",
       "      <td>70.0</td>\n",
       "      <td>89.0</td>\n",
       "      <td>120.5</td>\n",
       "      <td>145.25</td>\n",
       "      <td>171.0</td>\n",
       "    </tr>\n",
       "    <tr>\n",
       "      <th>QualifiedTeams</th>\n",
       "      <td>20.0</td>\n",
       "      <td>21.25</td>\n",
       "      <td>7.268352</td>\n",
       "      <td>13.0</td>\n",
       "      <td>16.0</td>\n",
       "      <td>16.0</td>\n",
       "      <td>26.00</td>\n",
       "      <td>32.0</td>\n",
       "    </tr>\n",
       "    <tr>\n",
       "      <th>MatchesPlayed</th>\n",
       "      <td>20.0</td>\n",
       "      <td>41.80</td>\n",
       "      <td>17.218717</td>\n",
       "      <td>17.0</td>\n",
       "      <td>30.5</td>\n",
       "      <td>38.0</td>\n",
       "      <td>55.00</td>\n",
       "      <td>64.0</td>\n",
       "    </tr>\n",
       "  </tbody>\n",
       "</table>\n",
       "</div>"
      ],
      "text/plain": [
       "                count     mean        std     min     25%     50%      75%  \\\n",
       "Year             20.0  1974.80  25.582889  1930.0  1957.0  1976.0  1995.00   \n",
       "GoalsScored      20.0   118.95  32.972836    70.0    89.0   120.5   145.25   \n",
       "QualifiedTeams   20.0    21.25   7.268352    13.0    16.0    16.0    26.00   \n",
       "MatchesPlayed    20.0    41.80  17.218717    17.0    30.5    38.0    55.00   \n",
       "\n",
       "                   max  \n",
       "Year            2014.0  \n",
       "GoalsScored      171.0  \n",
       "QualifiedTeams    32.0  \n",
       "MatchesPlayed     64.0  "
      ]
     },
     "execution_count": 9,
     "metadata": {},
     "output_type": "execute_result"
    }
   ],
   "source": [
    "# remove _____ & write the appropriate function name\n",
    "\n",
    "fifa.describe().T"
   ]
  },
  {
   "cell_type": "markdown",
   "metadata": {
    "id": "5wtVpNIXa849"
   },
   "source": [
    "#### Write your Answer here: \n"
   ]
  },
  {
   "cell_type": "raw",
   "metadata": {
    "id": "LLvhCU2Ba849"
   },
   "source": [
    "Ans 9:The summary statistics of the numerical coulmns clearly shows that there is a minimun goal scored is 70 and the maximum goal scored is 171.\n",
    "   The maximum matches played is 64 and minimum is 17"
   ]
  },
  {
   "cell_type": "markdown",
   "metadata": {
    "id": "RIT9TDEna849"
   },
   "source": [
    "## Q 10. Plot the distribution plot for the variable 'MatchesPlayed'. Write detailed observations from the plot."
   ]
  },
  {
   "cell_type": "code",
   "execution_count": 13,
   "metadata": {
    "id": "XInFJc4Sa84-"
   },
   "outputs": [
    {
     "data": {
      "image/png": "[encoded data removed]",
      "text/plain": [
       "<Figure size 640x480 with 1 Axes>"
      ]
     },
     "metadata": {},
     "output_type": "display_data"
    }
   ],
   "source": [
    "# remove _____ & write the appropriate library name\n",
    "sns.distplot(fifa['MatchesPlayed'])\n",
    "plt.show()"
   ]
  },
  {
   "cell_type": "markdown",
   "metadata": {
    "id": "0iFOoCp2a84-"
   },
   "source": [
    "#### Write your Answer here: \n"
   ]
  },
  {
   "cell_type": "raw",
   "metadata": {
    "id": "VoN0pRPla84-"
   },
   "source": [
    "Ans 10: The distribution of matches played for 40 matches played it lines around 0.009 density and for 60 matches played it lines around 0.0028"
   ]
  },
  {
   "cell_type": "markdown",
   "metadata": {
    "id": "O6BtQRZLa84_"
   },
   "source": [
    "## Q 11. Which country has won the world cup maximum times?\n",
    "**Hint: Use value_counts() function**\n",
    "\n",
    "`value_counts()` function returns object containing counts of unique values. The resulting object will be in descending order so that the first element is the most frequently occurring."
   ]
  },
  {
   "cell_type": "code",
   "execution_count": 14,
   "metadata": {
    "id": "WW2nu2DLa84_"
   },
   "outputs": [
    {
     "data": {
      "text/plain": [
       "Brazil        5\n",
       "Italy         4\n",
       "Germany FR    3\n",
       "Uruguay       2\n",
       "Argentina     2\n",
       "England       1\n",
       "France        1\n",
       "Spain         1\n",
       "Germany       1\n",
       "Name: Winner, dtype: int64"
      ]
     },
     "execution_count": 14,
     "metadata": {},
     "output_type": "execute_result"
    }
   ],
   "source": [
    "# remove _____ & write the appropriate function name\n",
    "\n",
    "fifa['Winner'].value_counts()"
   ]
  },
  {
   "cell_type": "markdown",
   "metadata": {
    "id": "h3jSHa6La84_"
   },
   "source": [
    "#### Write your Answer here: \n"
   ]
  },
  {
   "cell_type": "raw",
   "metadata": {
    "id": "WJnZJWFHa84_"
   },
   "source": [
    "Ans 11:Brazil has won the world cup most of 5 times"
   ]
  },
  {
   "cell_type": "markdown",
   "metadata": {
    "id": "bdQknezSa85A"
   },
   "source": [
    "## Q12. \n",
    "### 12.1 What is the mean of the variable 'Qualified teams'? \n",
    "### 12.2 What is the median of the variable 'Qualified teams'? \n",
    "### 12.3 What is the mode of the variable 'Qualified teams'?\n",
    "### Explain your answer"
   ]
  },
  {
   "cell_type": "code",
   "execution_count": 15,
   "metadata": {
    "id": "X42jHvaUa85A"
   },
   "outputs": [
    {
     "name": "stdout",
     "output_type": "stream",
     "text": [
      "21.25\n",
      "16.0\n",
      "16\n"
     ]
    }
   ],
   "source": [
    "# remove _____ & write the appropriate function name\n",
    "\n",
    "m1 = fifa['QualifiedTeams'].mean()  # mean\n",
    "print(m1)\n",
    "m2 = fifa['QualifiedTeams'].median()  # median\n",
    "print(m2)\n",
    "m3 = fifa['QualifiedTeams'].mode()[0]  # mode\n",
    "print(m3)"
   ]
  },
  {
   "cell_type": "markdown",
   "metadata": {
    "id": "enFtjSJna85A"
   },
   "source": [
    "#### Write your Answer here: \n"
   ]
  },
  {
   "cell_type": "raw",
   "metadata": {
    "id": "S25VN0ASa85A"
   },
   "source": [
    "Ans 12:\n",
    "MEAN=21.25\n",
    "MEDIAN=16.0\n",
    "MODE=16"
   ]
  },
  {
   "cell_type": "markdown",
   "metadata": {
    "id": "pIGlJi_2a85B"
   },
   "source": [
    "## Q13. How many countries are above the mean level of 'Qualified Teams'?"
   ]
  },
  {
   "cell_type": "code",
   "execution_count": 27,
   "metadata": {
    "id": "03RLQ2u3a85B"
   },
   "outputs": [
    {
     "data": {
      "text/plain": [
       "11           Spain\n",
       "12          Mexico\n",
       "13           Italy\n",
       "14             USA\n",
       "15          France\n",
       "16     Korea/Japan\n",
       "17         Germany\n",
       "18    South Africa\n",
       "19          Brazil\n",
       "Name: Country, dtype: object"
      ]
     },
     "execution_count": 27,
     "metadata": {},
     "output_type": "execute_result"
    }
   ],
   "source": [
    "# remove _____ & write the appropriate column name\n",
    "\n",
    "fifa[fifa['QualifiedTeams']>m1]['Country']"
   ]
  },
  {
   "cell_type": "markdown",
   "metadata": {
    "id": "jol5TaVOa85B"
   },
   "source": [
    "#### Write your Answer here: \n"
   ]
  },
  {
   "cell_type": "raw",
   "metadata": {
    "id": "mHOx3ycsa85B"
   },
   "source": [
    "Ans 13:\n",
    "9 teams are above the mean level of qualified teams"
   ]
  },
  {
   "cell_type": "markdown",
   "metadata": {
    "id": "VFZtw9zCa85C"
   },
   "source": [
    "## Q14. What is the median of variables 'GoalsScored' & 'MatchesPlayed'? "
   ]
  },
  {
   "cell_type": "code",
   "execution_count": 40,
   "metadata": {
    "id": "qzTHfurwa85C"
   },
   "outputs": [
    {
     "name": "stdout",
     "output_type": "stream",
     "text": [
      "120.5\n",
      "38.0\n"
     ]
    }
   ],
   "source": [
    "# remove _____ & write the appropriate library name\n",
    "\n",
    "GS_median =np.median(fifa['GoalsScored'])\n",
    "print(GS_median)\n",
    "QT_median =np.median(fifa['MatchesPlayed'])\n",
    "print(QT_median)"
   ]
  },
  {
   "cell_type": "markdown",
   "metadata": {
    "id": "4h3OzGZ2a85C"
   },
   "source": [
    "#### Write your Answer here: \n"
   ]
  },
  {
   "cell_type": "raw",
   "metadata": {
    "id": "qW0-dEsya85C"
   },
   "source": [
    "Ans 14:\n",
    "The median goal scored is 120.5 \n",
    "The median matches played is 38.0\n"
   ]
  },
  {
   "cell_type": "markdown",
   "metadata": {
    "id": "jiB1rL2Fa85D"
   },
   "source": [
    "## Q15. Which country scored the minimum number of goals?"
   ]
  },
  {
   "cell_type": "code",
   "execution_count": 31,
   "metadata": {
    "id": "6IZmYJKxa85D"
   },
   "outputs": [
    {
     "data": {
      "text/plain": [
       "0    Uruguay\n",
       "1      Italy\n",
       "Name: Country, dtype: object"
      ]
     },
     "execution_count": 31,
     "metadata": {},
     "output_type": "execute_result"
    }
   ],
   "source": [
    "# remove _____ & write the appropriate function name\n",
    "\n",
    "fifa[fifa['GoalsScored']==fifa['GoalsScored'].min()]['Country']"
   ]
  },
  {
   "cell_type": "markdown",
   "metadata": {
    "id": "_zyO9hQra85D"
   },
   "source": [
    "#### Write your Answer here: \n"
   ]
  },
  {
   "cell_type": "raw",
   "metadata": {
    "id": "7UYkgARTa85D"
   },
   "source": [
    "Ans 15:\n",
    "Uruguay scored 0 goal\n",
    "Italy scored 1 goal"
   ]
  },
  {
   "cell_type": "markdown",
   "metadata": {
    "id": "Qd2wRApWa85D"
   },
   "source": [
    "## Q16. Plot the pairplots of 'GoalsScored', 'QualifiedTeams', 'MatchesPlayed'."
   ]
  },
  {
   "cell_type": "code",
   "execution_count": 41,
   "metadata": {
    "id": "0oUE9xtra85E",
    "scrolled": false
   },
   "outputs": [
    {
     "data": {
      "image/png": "[encoded data removed]",
      "text/plain": [
       "<Figure size 750x750 with 12 Axes>"
      ]
     },
     "metadata": {},
     "output_type": "display_data"
    }
   ],
   "source": [
    "# remove _____ & write the appropriate function name\n",
    "\n",
    "sns.pairplot(fifa[['GoalsScored', 'QualifiedTeams', 'MatchesPlayed']])\n",
    "plt.show()"
   ]
  },
  {
   "cell_type": "markdown",
   "metadata": {
    "id": "65fgynxxa85E"
   },
   "source": [
    "## Q17. Plot the scatterplot for variables 'Country' & 'Year'."
   ]
  },
  {
   "cell_type": "code",
   "execution_count": 42,
   "metadata": {
    "id": "Ea7n4LJva85F"
   },
   "outputs": [
    {
     "data": {
      "image/png": "[encoded data removed]",
      "text/plain": [
       "<Figure size 640x480 with 1 Axes>"
      ]
     },
     "metadata": {},
     "output_type": "display_data"
    }
   ],
   "source": [
    "# remove _____ & write the appropriate function name\n",
    "\n",
    "sns.scatterplot(x= fifa['Year'], y= fifa['Country'])\n",
    "plt.show()"
   ]
  },
  {
   "cell_type": "markdown",
   "metadata": {
    "id": "bCitALhYa85G"
   },
   "source": [
    "## Q18. Plot a countplot for the variable 'Winner' to understand the number of times a country won the world cup between 1930 to 2014."
   ]
  },
  {
   "cell_type": "code",
   "execution_count": 44,
   "metadata": {
    "id": "0uoSMt2Ya85G"
   },
   "outputs": [
    {
     "data": {
      "image/png": "[encoded data removed]",
      "text/plain": [
       "<Figure size 800x600 with 1 Axes>"
      ]
     },
     "metadata": {},
     "output_type": "display_data"
    }
   ],
   "source": [
    "# remove _____ & write the appropriate column name \n",
    "\n",
    "plt.figure(figsize=(8,6))\n",
    "\n",
    "sns.countplot(x=fifa['Winner'])\n",
    "\n",
    "plt.title('How many times Country played matches between 1930 to 2014')\n",
    "\n",
    "plt.xlabel('Country')\n",
    "\n",
    "plt.ylabel('Frequency')\n",
    "\n",
    "plt.show()"
   ]
  },
  {
   "cell_type": "markdown",
   "metadata": {
    "id": "bgYP4sGra85G"
   },
   "source": [
    "#### Write your Answer here: \n"
   ]
  },
  {
   "cell_type": "raw",
   "metadata": {
    "id": "lxqPwTxPa85H"
   },
   "source": [
    "Ans 18:The count plot clearly shows that Brazil has the highest of 5times that they have won the world cup and country like england,france,spain and Germany has won it 1 time as of 2014 data"
   ]
  },
  {
   "cell_type": "markdown",
   "metadata": {
    "id": "40FbePwba85H"
   },
   "source": [
    "## Q 19. Show boxplot and calculate the interquartile range for the variable 'GoalsScored'"
   ]
  },
  {
   "cell_type": "code",
   "execution_count": 45,
   "metadata": {
    "id": "7LCXncNqa85H"
   },
   "outputs": [
    {
     "data": {
      "image/png": "[encoded data removed]",
      "text/plain": [
       "<Figure size 640x480 with 1 Axes>"
      ]
     },
     "metadata": {},
     "output_type": "display_data"
    }
   ],
   "source": [
    "# remove _____ & write the appropriate function/number\n",
    "\n",
    "plt.boxplot(fifa['GoalsScored'])\n",
    "\n",
    "plt.text(x=1.1,y=fifa['GoalsScored'].min(), s='min')\n",
    "plt.text(x=1.1,y=fifa.GoalsScored.quantile(0.25), s='Q1')\n",
    "plt.text(x=1.1,y=fifa['GoalsScored'].median(), s='median(Q2)')\n",
    "plt.text(x=1.1,y=fifa.GoalsScored.quantile(0.75), s='Q3')\n",
    "plt.text(x=1.1,y=fifa['GoalsScored'].max(), s='max')\n",
    "\n",
    "plt.title('Boxplot of GoalsScored')\n",
    "plt.ylabel('Goals')\n",
    "plt.show()"
   ]
  },
  {
   "cell_type": "code",
   "execution_count": 15,
   "metadata": {
    "id": "c1whrtaPa85H"
   },
   "outputs": [
    {
     "name": "stdout",
     "output_type": "stream",
     "text": [
      "0.5\n"
     ]
    }
   ],
   "source": [
    "# remove _____ & write the appropriate variable name\n",
    "\n",
    "Q1 = fifa.quantile(0.25)\n",
    "Q3 = fifa.quantile(0.75)\n",
    "IQR = 0.75 - 0.25\n",
    "print(IQR)"
   ]
  },
  {
   "cell_type": "markdown",
   "metadata": {
    "id": "MYIDYxo7a85I"
   },
   "source": [
    "#### Write your Answer here: \n"
   ]
  },
  {
   "cell_type": "raw",
   "metadata": {
    "id": "PCwKhprZa85I"
   },
   "source": [
    "Ans 19:0.5"
   ]
  },
  {
   "cell_type": "markdown",
   "metadata": {
    "id": "_2IVn-pTa85I"
   },
   "source": [
    "## Q 20. Find and visualize the correlation relation among numeric variables"
   ]
  },
  {
   "cell_type": "code",
   "execution_count": 46,
   "metadata": {
    "id": "jMRmfteLa85I"
   },
   "outputs": [
    {
     "data": {
      "text/html": [
       "<div>\n",
       "<style scoped>\n",
       "    .dataframe tbody tr th:only-of-type {\n",
       "        vertical-align: middle;\n",
       "    }\n",
       "\n",
       "    .dataframe tbody tr th {\n",
       "        vertical-align: top;\n",
       "    }\n",
       "\n",
       "    .dataframe thead th {\n",
       "        text-align: right;\n",
       "    }\n",
       "</style>\n",
       "<table border=\"1\" class=\"dataframe\">\n",
       "  <thead>\n",
       "    <tr style=\"text-align: right;\">\n",
       "      <th></th>\n",
       "      <th>Year</th>\n",
       "      <th>GoalsScored</th>\n",
       "      <th>QualifiedTeams</th>\n",
       "      <th>MatchesPlayed</th>\n",
       "    </tr>\n",
       "  </thead>\n",
       "  <tbody>\n",
       "    <tr>\n",
       "      <th>Year</th>\n",
       "      <td>1.000000</td>\n",
       "      <td>0.829886</td>\n",
       "      <td>0.895565</td>\n",
       "      <td>0.972473</td>\n",
       "    </tr>\n",
       "    <tr>\n",
       "      <th>GoalsScored</th>\n",
       "      <td>0.829886</td>\n",
       "      <td>1.000000</td>\n",
       "      <td>0.866201</td>\n",
       "      <td>0.876201</td>\n",
       "    </tr>\n",
       "    <tr>\n",
       "      <th>QualifiedTeams</th>\n",
       "      <td>0.895565</td>\n",
       "      <td>0.866201</td>\n",
       "      <td>1.000000</td>\n",
       "      <td>0.949164</td>\n",
       "    </tr>\n",
       "    <tr>\n",
       "      <th>MatchesPlayed</th>\n",
       "      <td>0.972473</td>\n",
       "      <td>0.876201</td>\n",
       "      <td>0.949164</td>\n",
       "      <td>1.000000</td>\n",
       "    </tr>\n",
       "  </tbody>\n",
       "</table>\n",
       "</div>"
      ],
      "text/plain": [
       "                    Year  GoalsScored  QualifiedTeams  MatchesPlayed\n",
       "Year            1.000000     0.829886        0.895565       0.972473\n",
       "GoalsScored     0.829886     1.000000        0.866201       0.876201\n",
       "QualifiedTeams  0.895565     0.866201        1.000000       0.949164\n",
       "MatchesPlayed   0.972473     0.876201        0.949164       1.000000"
      ]
     },
     "execution_count": 46,
     "metadata": {},
     "output_type": "execute_result"
    }
   ],
   "source": [
    "# remove _____ & write the appropriate function name in the blank space and run the code\n",
    "corr_matrix = fifa.corr()\n",
    "\n",
    "corr_matrix"
   ]
  },
  {
   "cell_type": "code",
   "execution_count": 47,
   "metadata": {
    "id": "aBVgPjY3a85J"
   },
   "outputs": [
    {
     "data": {
      "image/png": "[encoded data removed]",
      "text/plain": [
       "<Figure size 640x480 with 2 Axes>"
      ]
     },
     "metadata": {},
     "output_type": "display_data"
    }
   ],
   "source": [
    "# remove _____ & write the appropriate plot name in the blank space\n",
    "sns.heatmap(corr_matrix, annot = True)\n",
    "\n",
    "# display the plot\n",
    "plt.show()"
   ]
  },
  {
   "cell_type": "markdown",
   "metadata": {
    "id": "8TBq53vxa85J"
   },
   "source": [
    "#### Write your Answer here: \n"
   ]
  },
  {
   "cell_type": "raw",
   "metadata": {
    "id": "zCfh5_cxa85J"
   },
   "source": [
    "Ans 20: The heat map shows a high correlation between all the variables "
   ]
  }
 ],
 "metadata": {
  "colab": {
   "collapsed_sections": [
    "UkTWFJrra843",
    "MqIbNbRUa844",
    "RJrf8hica846",
    "OUtbS2Tra848",
    "5wtVpNIXa849",
    "0iFOoCp2a84-",
    "h3jSHa6La84_",
    "enFtjSJna85A",
    "jol5TaVOa85B",
    "4h3OzGZ2a85C",
    "_zyO9hQra85D",
    "bgYP4sGra85G",
    "MYIDYxo7a85I",
    "8TBq53vxa85J"
   ],
   "name": "Question Notebook - FIFA World Cup Analysis.ipynb",
   "provenance": []
  },
  "kernelspec": {
   "display_name": "Python 3 (ipykernel)",
   "language": "python",
   "name": "python3"
  },
  "language_info": {
   "codemirror_mode": {
    "name": "ipython",
    "version": 3
   },
   "file_extension": ".py",
   "mimetype": "text/x-python",
   "name": "python",
   "nbconvert_exporter": "python",
   "pygments_lexer": "ipython3",
   "version": "3.9.13"
  },
  "toc": {
   "base_numbering": 1,
   "nav_menu": {},
   "number_sections": true,
   "sideBar": true,
   "skip_h1_title": false,
   "title_cell": "Table of Contents",
   "title_sidebar": "Contents",
   "toc_cell": false,
   "toc_position": {},
   "toc_section_display": true,
   "toc_window_display": false
  },
  "varInspector": {
   "cols": {
    "lenName": 16,
    "lenType": 16,
    "lenVar": 40
   },
   "kernels_config": {
    "python": {
     "delete_cmd_postfix": "",
     "delete_cmd_prefix": "del ",
     "library": "var_list.py",
     "varRefreshCmd": "print(var_dic_list())"
    },
    "r": {
     "delete_cmd_postfix": ") ",
     "delete_cmd_prefix": "rm(",
     "library": "var_list.r",
     "varRefreshCmd": "cat(var_dic_list()) "
    }
   },
   "types_to_exclude": [
    "module",
    "function",
    "builtin_function_or_method",
    "instance",
    "_Feature"
   ],
   "window_display": false
  }
 },
 "nbformat": 4,
 "nbformat_minor": 1
}
